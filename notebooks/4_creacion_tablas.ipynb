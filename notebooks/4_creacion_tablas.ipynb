{
 "cells": [
  {
   "cell_type": "markdown",
   "metadata": {},
   "source": [
    "### 0. Imports"
   ]
  },
  {
   "cell_type": "code",
   "execution_count": 108,
   "metadata": {},
   "outputs": [],
   "source": [
    "# transformación de datos\n",
    "import pandas as pd\n",
    "\n",
    "# work with environment variables\n",
    "import os\n",
    "from dotenv import load_dotenv\n",
    "\n",
    "# Load environment variables from .env file\n",
    "load_dotenv()\n",
    "\n",
    "# Retrieve database credentials\n",
    "USERNAME = os.getenv(\"DATABASE_USERNAME\")\n",
    "PASSWORD = os.getenv(\"DATABASE_PASSWORD\")\n",
    "\n",
    "# append parent folder to path\n",
    "import sys\n",
    "sys.path.append(\"..\")\n",
    "\n",
    "# import data load support functions\n",
    "import src.data_load_support as dls\n",
    "\n",
    "# import database connection support functions\n",
    "import src.database_connection_support as dcs"
   ]
  },
  {
   "cell_type": "markdown",
   "metadata": {},
   "source": [
    "# 1. Introducción - Diseño de BDD y creación de tablas"
   ]
  },
  {
   "cell_type": "markdown",
   "metadata": {},
   "source": [
    "Este notebook detalla la limpieza de los datos previa a la subida en base de datos."
   ]
  },
  {
   "cell_type": "markdown",
   "metadata": {},
   "source": [
    "# 2. Importacion"
   ]
  },
  {
   "cell_type": "code",
   "execution_count": 109,
   "metadata": {},
   "outputs": [
    {
     "data": {
      "text/html": [
       "<div>\n",
       "<style scoped>\n",
       "    .dataframe tbody tr th:only-of-type {\n",
       "        vertical-align: middle;\n",
       "    }\n",
       "\n",
       "    .dataframe tbody tr th {\n",
       "        vertical-align: top;\n",
       "    }\n",
       "\n",
       "    .dataframe thead th {\n",
       "        text-align: right;\n",
       "    }\n",
       "</style>\n",
       "<table border=\"1\" class=\"dataframe\">\n",
       "  <thead>\n",
       "    <tr style=\"text-align: right;\">\n",
       "      <th></th>\n",
       "      <th>actr</th>\n",
       "      <th>año_nac</th>\n",
       "      <th>conocido_por</th>\n",
       "      <th>que_hace</th>\n",
       "      <th>premios</th>\n",
       "    </tr>\n",
       "  </thead>\n",
       "  <tbody>\n",
       "    <tr>\n",
       "      <th>0</th>\n",
       "      <td>A. Gunaseelan</td>\n",
       "      <td>NaN</td>\n",
       "      <td>'Mandela'</td>\n",
       "      <td>Casting Department, Actress, Casting Director</td>\n",
       "      <td>1 nomination</td>\n",
       "    </tr>\n",
       "  </tbody>\n",
       "</table>\n",
       "</div>"
      ],
      "text/plain": [
       "            actr  año_nac conocido_por  \\\n",
       "0  A. Gunaseelan      NaN    'Mandela'   \n",
       "\n",
       "                                        que_hace       premios  \n",
       "0  Casting Department, Actress, Casting Director  1 nomination  "
      ]
     },
     "execution_count": 109,
     "metadata": {},
     "output_type": "execute_result"
    }
   ],
   "source": [
    "detalles_artistas = pd.read_csv(\"../data/cleaned/detalles_artistas.csv\",index_col=0)\n",
    "detalles_artistas.head(1)"
   ]
  },
  {
   "cell_type": "code",
   "execution_count": 110,
   "metadata": {},
   "outputs": [
    {
     "data": {
      "text/html": [
       "<div>\n",
       "<style scoped>\n",
       "    .dataframe tbody tr th:only-of-type {\n",
       "        vertical-align: middle;\n",
       "    }\n",
       "\n",
       "    .dataframe tbody tr th {\n",
       "        vertical-align: top;\n",
       "    }\n",
       "\n",
       "    .dataframe thead th {\n",
       "        text-align: right;\n",
       "    }\n",
       "</style>\n",
       "<table border=\"1\" class=\"dataframe\">\n",
       "  <thead>\n",
       "    <tr style=\"text-align: right;\">\n",
       "      <th></th>\n",
       "      <th>titulo</th>\n",
       "      <th>cali_imdb</th>\n",
       "      <th>direc_imbd</th>\n",
       "      <th>guion_imbd</th>\n",
       "      <th>argum_imbd</th>\n",
       "      <th>durac_imbd</th>\n",
       "      <th>id_pelicula</th>\n",
       "    </tr>\n",
       "  </thead>\n",
       "  <tbody>\n",
       "    <tr>\n",
       "      <th>0</th>\n",
       "      <td>Las Travesuras de Super Chido</td>\n",
       "      <td>7.7</td>\n",
       "      <td>Alejandro Todd</td>\n",
       "      <td>Óscar FentanesJuan Garrido</td>\n",
       "      <td>NaN</td>\n",
       "      <td>1h 35min</td>\n",
       "      <td>tt0320656</td>\n",
       "    </tr>\n",
       "  </tbody>\n",
       "</table>\n",
       "</div>"
      ],
      "text/plain": [
       "                          titulo  cali_imdb      direc_imbd  \\\n",
       "0  Las Travesuras de Super Chido        7.7  Alejandro Todd   \n",
       "\n",
       "                   guion_imbd argum_imbd durac_imbd id_pelicula  \n",
       "0  Óscar FentanesJuan Garrido        NaN   1h 35min   tt0320656  "
      ]
     },
     "execution_count": 110,
     "metadata": {},
     "output_type": "execute_result"
    }
   ],
   "source": [
    "detalles_peliculas = pd.read_csv(\"../data/cleaned/detalles_peliculas.csv\", index_col=0)\n",
    "detalles_peliculas.head(1)"
   ]
  },
  {
   "cell_type": "code",
   "execution_count": 111,
   "metadata": {},
   "outputs": [
    {
     "data": {
      "text/html": [
       "<div>\n",
       "<style scoped>\n",
       "    .dataframe tbody tr th:only-of-type {\n",
       "        vertical-align: middle;\n",
       "    }\n",
       "\n",
       "    .dataframe tbody tr th {\n",
       "        vertical-align: top;\n",
       "    }\n",
       "\n",
       "    .dataframe thead th {\n",
       "        text-align: right;\n",
       "    }\n",
       "</style>\n",
       "<table border=\"1\" class=\"dataframe\">\n",
       "  <thead>\n",
       "    <tr style=\"text-align: right;\">\n",
       "      <th></th>\n",
       "      <th>Movie ID</th>\n",
       "      <th>Actriz_Actor</th>\n",
       "    </tr>\n",
       "  </thead>\n",
       "  <tbody>\n",
       "    <tr>\n",
       "      <th>0</th>\n",
       "      <td>tt0110660</td>\n",
       "      <td>Tony Ka Fai Leung</td>\n",
       "    </tr>\n",
       "  </tbody>\n",
       "</table>\n",
       "</div>"
      ],
      "text/plain": [
       "    Movie ID       Actriz_Actor\n",
       "0  tt0110660  Tony Ka Fai Leung"
      ]
     },
     "execution_count": 111,
     "metadata": {},
     "output_type": "execute_result"
    }
   ],
   "source": [
    "pelicula_artista = pd.read_csv(\"../data/cleaned/pelicula_artista.csv\",index_col=0)\n",
    "pelicula_artista.head(1)"
   ]
  },
  {
   "cell_type": "code",
   "execution_count": 112,
   "metadata": {},
   "outputs": [
    {
     "data": {
      "text/html": [
       "<div>\n",
       "<style scoped>\n",
       "    .dataframe tbody tr th:only-of-type {\n",
       "        vertical-align: middle;\n",
       "    }\n",
       "\n",
       "    .dataframe tbody tr th {\n",
       "        vertical-align: top;\n",
       "    }\n",
       "\n",
       "    .dataframe thead th {\n",
       "        text-align: right;\n",
       "    }\n",
       "</style>\n",
       "<table border=\"1\" class=\"dataframe\">\n",
       "  <thead>\n",
       "    <tr style=\"text-align: right;\">\n",
       "      <th></th>\n",
       "      <th>Tipo</th>\n",
       "      <th>Titulo</th>\n",
       "      <th>Año</th>\n",
       "      <th>Mes</th>\n",
       "      <th>Id</th>\n",
       "      <th>generos</th>\n",
       "    </tr>\n",
       "  </thead>\n",
       "  <tbody>\n",
       "    <tr>\n",
       "      <th>0</th>\n",
       "      <td>Movie</td>\n",
       "      <td>Las Travesuras de Super Chido</td>\n",
       "      <td>1990.0</td>\n",
       "      <td>10.0</td>\n",
       "      <td>tt0320656</td>\n",
       "      <td>Action</td>\n",
       "    </tr>\n",
       "  </tbody>\n",
       "</table>\n",
       "</div>"
      ],
      "text/plain": [
       "    Tipo                         Titulo     Año   Mes         Id generos\n",
       "0  Movie  Las Travesuras de Super Chido  1990.0  10.0  tt0320656  Action"
      ]
     },
     "execution_count": 112,
     "metadata": {},
     "output_type": "execute_result"
    }
   ],
   "source": [
    "peliculas = pd.read_csv(\"../data/cleaned/peliculas.csv\",index_col=0)\n",
    "peliculas.head(1)"
   ]
  },
  {
   "cell_type": "markdown",
   "metadata": {},
   "source": [
    "# 3. Esquema base de datos"
   ]
  },
  {
   "cell_type": "markdown",
   "metadata": {},
   "source": [
    "peliculas\n",
    "- id_pelicula PK\n",
    "- tipo VARCHAR\n",
    "- genero VARCHAR\n",
    "- titulo VARCHAR\n",
    "- anio INT\n",
    "- mes INT\n",
    "- cali_imdb FLOAT\n",
    "- direc_imdb VARCHAR\n",
    "- guion_imdb VARCHAR\n",
    "- argum_imdb VARCHAR\n",
    "- durac_imdb VARCHAR\n",
    "\n",
    "\n",
    "peliculas_artistas\n",
    "- id SERIAL PK\n",
    "- id_pelicula INT FK\n",
    "- actriz_actor VARCHAR FK\n",
    "\n",
    "artistas\n",
    "- actriz_actor FK\n",
    "- anio_nac INT \n",
    "- que_hace VARCHAR\n",
    "- premios VARCHAR"
   ]
  },
  {
   "cell_type": "markdown",
   "metadata": {},
   "source": [
    "## 3.1 Creación de la base de datos"
   ]
  },
  {
   "cell_type": "code",
   "execution_count": 113,
   "metadata": {},
   "outputs": [],
   "source": [
    "database_credentials = {\"username\":USERNAME,\n",
    "                        \"password\":PASSWORD,\n",
    "                        }"
   ]
  },
  {
   "cell_type": "code",
   "execution_count": 114,
   "metadata": {},
   "outputs": [
    {
     "name": "stdout",
     "output_type": "stream",
     "text": [
      "Database already existant.\n"
     ]
    }
   ],
   "source": [
    "dls.create_db(\"prueba_tecnica\", credentials_dict=database_credentials)"
   ]
  },
  {
   "cell_type": "markdown",
   "metadata": {},
   "source": [
    "## 3.2 Creacion de tablas"
   ]
  },
  {
   "cell_type": "code",
   "execution_count": 124,
   "metadata": {},
   "outputs": [],
   "source": [
    "dropear_tablas = \"DROP TABLE IF EXISTS peliculas, artistas, peliculas_artistas, peliculas_artista CASCADE;\"\n",
    "\n",
    "crear_peliculas = \"\"\"\n",
    "CREATE TABLE peliculas (\n",
    "    id_pelicula VARCHAR(30) PRIMARY KEY,\n",
    "    titulo VARCHAR (100),\n",
    "    tipo VARCHAR(15),\n",
    "    genero VARCHAR(20),\n",
    "    anio NUMERIC, -- deberia ser INT, arreglo necesario para la subida rápida\n",
    "    mes NUMERIC,-- deberia ser INT, arreglo necesario para la subida rápida\n",
    "    cali_imdb NUMERIC,\n",
    "    direc_imdb VARCHAR(255),\n",
    "    guion_imdb VARCHAR(255),\n",
    "    argum_imdb TEXT,\n",
    "    durac_imdb VARCHAR(10)\n",
    ");\n",
    "\"\"\"\n",
    "\n",
    "crear_artistas = \"\"\"\n",
    "CREATE TABLE artistas(\n",
    "    actriz_actor VARCHAR(50) PRIMARY KEY,\n",
    "    anio_nac NUMERIC,  -- deberia ser INT, arreglo necesario para la subida rápida\n",
    "    que_hace VARCHAR(255),\n",
    "    premios VARCHAR(255)\n",
    ");\n",
    "\"\"\"\n",
    "\n",
    "crear_peliculas_artistas = \"\"\"\n",
    "CREATE TABLE peliculas_artistas (\n",
    "    id SERIAL PRIMARY KEY,\n",
    "    id_pelicula VARCHAR(30) REFERENCES peliculas(id_pelicula),\n",
    "    actriz_actor VARCHAR(50) REFERENCES artistas(actriz_actor)\n",
    ");\n",
    "\"\"\"\n"
   ]
  },
  {
   "cell_type": "markdown",
   "metadata": {},
   "source": [
    "Definir la creación de tablas en la base de datos"
   ]
  },
  {
   "cell_type": "code",
   "execution_count": 125,
   "metadata": {},
   "outputs": [],
   "source": [
    "create_table_queries = [\n",
    "    dropear_tablas,\n",
    "    crear_peliculas,\n",
    "    crear_artistas,\n",
    "    crear_peliculas_artistas\n",
    "]\n",
    "\n",
    "conn = dcs.connect_to_database(\"prueba_tecnica\", credentials_dict=database_credentials, autocommit=True)\n",
    "\n",
    "# dropear tablas y crear\n",
    "for query in create_table_queries:\n",
    "    conn.cursor().execute(query)"
   ]
  },
  {
   "cell_type": "markdown",
   "metadata": {},
   "source": [
    "### 3.2.1 Inserción peliculas"
   ]
  },
  {
   "cell_type": "markdown",
   "metadata": {},
   "source": [
    "Preparación tabla peliculas:"
   ]
  },
  {
   "cell_type": "code",
   "execution_count": 126,
   "metadata": {},
   "outputs": [
    {
     "data": {
      "text/html": [
       "<div>\n",
       "<style scoped>\n",
       "    .dataframe tbody tr th:only-of-type {\n",
       "        vertical-align: middle;\n",
       "    }\n",
       "\n",
       "    .dataframe tbody tr th {\n",
       "        vertical-align: top;\n",
       "    }\n",
       "\n",
       "    .dataframe thead th {\n",
       "        text-align: right;\n",
       "    }\n",
       "</style>\n",
       "<table border=\"1\" class=\"dataframe\">\n",
       "  <thead>\n",
       "    <tr style=\"text-align: right;\">\n",
       "      <th></th>\n",
       "      <th>Tipo</th>\n",
       "      <th>Titulo</th>\n",
       "      <th>Año</th>\n",
       "      <th>Mes</th>\n",
       "      <th>Id</th>\n",
       "      <th>generos</th>\n",
       "      <th>titulo</th>\n",
       "      <th>cali_imdb</th>\n",
       "      <th>direc_imbd</th>\n",
       "      <th>guion_imbd</th>\n",
       "      <th>argum_imbd</th>\n",
       "      <th>durac_imbd</th>\n",
       "      <th>id_pelicula</th>\n",
       "    </tr>\n",
       "  </thead>\n",
       "  <tbody>\n",
       "    <tr>\n",
       "      <th>0</th>\n",
       "      <td>Movie</td>\n",
       "      <td>Las Travesuras de Super Chido</td>\n",
       "      <td>1990.0</td>\n",
       "      <td>10.0</td>\n",
       "      <td>tt0320656</td>\n",
       "      <td>Action</td>\n",
       "      <td>Las Travesuras de Super Chido</td>\n",
       "      <td>7.7</td>\n",
       "      <td>Alejandro Todd</td>\n",
       "      <td>Óscar FentanesJuan Garrido</td>\n",
       "      <td>NaN</td>\n",
       "      <td>1h 35min</td>\n",
       "      <td>tt0320656</td>\n",
       "    </tr>\n",
       "  </tbody>\n",
       "</table>\n",
       "</div>"
      ],
      "text/plain": [
       "    Tipo                         Titulo     Año   Mes         Id generos  \\\n",
       "0  Movie  Las Travesuras de Super Chido  1990.0  10.0  tt0320656  Action   \n",
       "\n",
       "                          titulo  cali_imdb      direc_imbd  \\\n",
       "0  Las Travesuras de Super Chido        7.7  Alejandro Todd   \n",
       "\n",
       "                   guion_imbd argum_imbd durac_imbd id_pelicula  \n",
       "0  Óscar FentanesJuan Garrido        NaN   1h 35min   tt0320656  "
      ]
     },
     "execution_count": 126,
     "metadata": {},
     "output_type": "execute_result"
    }
   ],
   "source": [
    "peliculas_db = pd.concat([peliculas, detalles_peliculas],axis=1)\n",
    "peliculas_db.head(1)"
   ]
  },
  {
   "cell_type": "code",
   "execution_count": 127,
   "metadata": {},
   "outputs": [],
   "source": [
    "peliculas_db = peliculas_db[[\"Id\", \"Titulo\",\"Tipo\",\"generos\", \"Año\", \"Mes\",\"cali_imdb\",\n",
    "              \"direc_imbd\",\"guion_imbd\", \"argum_imbd\",\"durac_imbd\"]]"
   ]
  },
  {
   "cell_type": "code",
   "execution_count": 128,
   "metadata": {},
   "outputs": [],
   "source": [
    "conn.cursor().executemany(\n",
    "\"INSERT INTO peliculas VALUES (%s,%s,%s,%s,%s,%s,%s,%s,%s,%s,%s)\",\n",
    "list(peliculas_db.itertuples(index=False, name=None))\n",
    ")"
   ]
  },
  {
   "cell_type": "markdown",
   "metadata": {},
   "source": [
    "### 3.2.2 Inserción artistas"
   ]
  },
  {
   "cell_type": "markdown",
   "metadata": {},
   "source": [
    "Preparación tabla artistas:"
   ]
  },
  {
   "cell_type": "code",
   "execution_count": 129,
   "metadata": {},
   "outputs": [
    {
     "data": {
      "text/html": [
       "<div>\n",
       "<style scoped>\n",
       "    .dataframe tbody tr th:only-of-type {\n",
       "        vertical-align: middle;\n",
       "    }\n",
       "\n",
       "    .dataframe tbody tr th {\n",
       "        vertical-align: top;\n",
       "    }\n",
       "\n",
       "    .dataframe thead th {\n",
       "        text-align: right;\n",
       "    }\n",
       "</style>\n",
       "<table border=\"1\" class=\"dataframe\">\n",
       "  <thead>\n",
       "    <tr style=\"text-align: right;\">\n",
       "      <th></th>\n",
       "      <th>actr</th>\n",
       "      <th>año_nac</th>\n",
       "      <th>que_hace</th>\n",
       "      <th>premios</th>\n",
       "    </tr>\n",
       "  </thead>\n",
       "  <tbody>\n",
       "    <tr>\n",
       "      <th>0</th>\n",
       "      <td>A. Gunaseelan</td>\n",
       "      <td>NaN</td>\n",
       "      <td>Casting Department, Actress, Casting Director</td>\n",
       "      <td>1 nomination</td>\n",
       "    </tr>\n",
       "  </tbody>\n",
       "</table>\n",
       "</div>"
      ],
      "text/plain": [
       "            actr  año_nac                                       que_hace  \\\n",
       "0  A. Gunaseelan      NaN  Casting Department, Actress, Casting Director   \n",
       "\n",
       "        premios  \n",
       "0  1 nomination  "
      ]
     },
     "execution_count": 129,
     "metadata": {},
     "output_type": "execute_result"
    }
   ],
   "source": [
    "artistas_db = detalles_artistas[[\"actr\", \"año_nac\", \"que_hace\", \"premios\"]]\n",
    "artistas_db.head(1)"
   ]
  },
  {
   "cell_type": "code",
   "execution_count": 130,
   "metadata": {},
   "outputs": [],
   "source": [
    "conn.cursor().executemany(\n",
    "\"INSERT INTO artistas VALUES (%s,%s,%s,%s)\",\n",
    "list(artistas_db.itertuples(index=False, name=None))\n",
    ")"
   ]
  },
  {
   "cell_type": "markdown",
   "metadata": {},
   "source": [
    "### 3.2.3 Inserción peliculas artistas"
   ]
  },
  {
   "cell_type": "markdown",
   "metadata": {},
   "source": [
    "Preparación tabla artistas:"
   ]
  },
  {
   "cell_type": "code",
   "execution_count": 131,
   "metadata": {},
   "outputs": [],
   "source": [
    "pelicula_artistas_db = (pelicula_artista.dropna(subset=\"Actriz_Actor\")\n",
    "                .merge(artistas_db[\"actr\"], left_on=\"Actriz_Actor\",right_on=\"actr\",how=\"inner\")[[\"Movie ID\",\"Actriz_Actor\"]])"
   ]
  },
  {
   "cell_type": "code",
   "execution_count": 132,
   "metadata": {},
   "outputs": [],
   "source": [
    "conn.cursor().executemany(\n",
    "\"INSERT INTO peliculas_artistas(id_pelicula,actriz_actor) VALUES (%s,%s)\",\n",
    "list(pelicula_artistas_db.itertuples(index=False, name=None))\n",
    ")"
   ]
  },
  {
   "cell_type": "code",
   "execution_count": null,
   "metadata": {},
   "outputs": [],
   "source": []
  },
  {
   "cell_type": "markdown",
   "metadata": {},
   "source": []
  },
  {
   "cell_type": "code",
   "execution_count": null,
   "metadata": {},
   "outputs": [],
   "source": []
  },
  {
   "cell_type": "code",
   "execution_count": null,
   "metadata": {},
   "outputs": [],
   "source": []
  },
  {
   "cell_type": "code",
   "execution_count": null,
   "metadata": {},
   "outputs": [],
   "source": []
  }
 ],
 "metadata": {
  "kernelspec": {
   "display_name": "prueba_tecnica_hackio",
   "language": "python",
   "name": "prueba_tecnica_hackio"
  },
  "language_info": {
   "codemirror_mode": {
    "name": "ipython",
    "version": 3
   },
   "file_extension": ".py",
   "mimetype": "text/x-python",
   "name": "python",
   "nbconvert_exporter": "python",
   "pygments_lexer": "ipython3",
   "version": "3.12.6"
  }
 },
 "nbformat": 4,
 "nbformat_minor": 2
}
